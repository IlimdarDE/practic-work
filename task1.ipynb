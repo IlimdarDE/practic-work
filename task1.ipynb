{
 "cells": [
  {
   "cell_type": "code",
   "execution_count": 1,
   "id": "cf8dc87c",
   "metadata": {},
   "outputs": [],
   "source": [
    "import pandas as pd"
   ]
  },
  {
   "cell_type": "code",
   "execution_count": 2,
   "id": "bb966b2c",
   "metadata": {},
   "outputs": [],
   "source": [
    "df = pd.DataFrame(data={\n",
    "    'year': [20200131, 20200131],\n",
    "    'region': ['Almaty', 'Almaty'],\n",
    "    'value': [130500, 150500]\n",
    "})"
   ]
  },
  {
   "cell_type": "code",
   "execution_count": 4,
   "id": "8f4254b5",
   "metadata": {},
   "outputs": [],
   "source": [
    "df.to_csv('original', sep=',')"
   ]
  },
  {
   "cell_type": "code",
   "execution_count": 5,
   "id": "22764544",
   "metadata": {},
   "outputs": [],
   "source": [
    "df['year'] = pd.to_datetime(df['year'], format='%Y%m%d').dt.strftime('%m-%d-%Y')"
   ]
  },
  {
   "cell_type": "code",
   "execution_count": 8,
   "id": "30fdc942",
   "metadata": {},
   "outputs": [],
   "source": [
    "df1 = df.groupby(['year', 'region'], as_index = False).sum()"
   ]
  },
  {
   "cell_type": "code",
   "execution_count": 10,
   "id": "71e78adf",
   "metadata": {},
   "outputs": [],
   "source": [
    "df1.to_csv('result', sep=',')"
   ]
  }
 ],
 "metadata": {
  "kernelspec": {
   "display_name": "Python 3 (ipykernel)",
   "language": "python",
   "name": "python3"
  },
  "language_info": {
   "codemirror_mode": {
    "name": "ipython",
    "version": 3
   },
   "file_extension": ".py",
   "mimetype": "text/x-python",
   "name": "python",
   "nbconvert_exporter": "python",
   "pygments_lexer": "ipython3",
   "version": "3.9.12"
  }
 },
 "nbformat": 4,
 "nbformat_minor": 5
}
